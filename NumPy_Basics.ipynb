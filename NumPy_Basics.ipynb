{
  "nbformat": 4,
  "nbformat_minor": 0,
  "metadata": {
    "colab": {
      "provenance": []
    },
    "kernelspec": {
      "name": "python3",
      "display_name": "Python 3"
    },
    "language_info": {
      "name": "python"
    }
  },
  "cells": [
    {
      "cell_type": "code",
      "source": [
        "import numpy as np"
      ],
      "metadata": {
        "id": "gegJfj9bm4lt"
      },
      "execution_count": 2,
      "outputs": []
    },
    {
      "cell_type": "markdown",
      "source": [
        "1 Dimensional Array (1D)"
      ],
      "metadata": {
        "id": "Y12SmXLx9CpW"
      }
    },
    {
      "cell_type": "markdown",
      "source": [],
      "metadata": {
        "id": "mTUpiNhB9YYb"
      }
    },
    {
      "cell_type": "code",
      "source": [
        "NP1 = np.array([1,2,3,4,5,6])\n",
        "print(type(NP1))"
      ],
      "metadata": {
        "colab": {
          "base_uri": "https://localhost:8080/"
        },
        "id": "Hk2l6woW8mii",
        "outputId": "8b075bd4-eb84-491d-dcb2-8885919757d2"
      },
      "execution_count": 4,
      "outputs": [
        {
          "output_type": "stream",
          "name": "stdout",
          "text": [
            "<class 'numpy.ndarray'>\n"
          ]
        }
      ]
    },
    {
      "cell_type": "markdown",
      "source": [
        "2 Dimensional Array (2D)"
      ],
      "metadata": {
        "id": "bJxYhOpx9Vn8"
      }
    },
    {
      "cell_type": "markdown",
      "source": [
        "Shape means (rows,columns) - 2 rows , 3 columns"
      ],
      "metadata": {
        "id": "JTDiuCVY9jFV"
      }
    },
    {
      "cell_type": "code",
      "source": [
        "NP2 = np.array([[1,2,3],[4,5,6]])\n",
        "NP2\n",
        "print(NP2.shape)"
      ],
      "metadata": {
        "colab": {
          "base_uri": "https://localhost:8080/"
        },
        "id": "eXl88wso86bg",
        "outputId": "e7b529b2-fa4e-4c4a-c044-5399a3c2370d"
      },
      "execution_count": 6,
      "outputs": [
        {
          "output_type": "stream",
          "name": "stdout",
          "text": [
            "(2, 3)\n"
          ]
        }
      ]
    },
    {
      "cell_type": "code",
      "source": [
        "print(NP2.size)"
      ],
      "metadata": {
        "colab": {
          "base_uri": "https://localhost:8080/"
        },
        "id": "IpLnVaUd9Uea",
        "outputId": "d9caad65-ddff-46df-83cd-a067921887ca"
      },
      "execution_count": 7,
      "outputs": [
        {
          "output_type": "stream",
          "name": "stdout",
          "text": [
            "6\n"
          ]
        }
      ]
    },
    {
      "cell_type": "markdown",
      "source": [
        "Shows the Dimension of the array -  2 means 2D , 1 means 1D"
      ],
      "metadata": {
        "id": "HNIChyhd91-2"
      }
    },
    {
      "cell_type": "code",
      "source": [
        "print(NP2.ndim)\n",
        "print(NP1.ndim)"
      ],
      "metadata": {
        "colab": {
          "base_uri": "https://localhost:8080/"
        },
        "id": "_XnziPq99uTJ",
        "outputId": "4ee73b62-df3b-4588-fa7a-25c1b294196a"
      },
      "execution_count": 9,
      "outputs": [
        {
          "output_type": "stream",
          "name": "stdout",
          "text": [
            "2\n",
            "1\n"
          ]
        }
      ]
    },
    {
      "cell_type": "markdown",
      "source": [
        "Accessing items in an 1D array"
      ],
      "metadata": {
        "id": "NObT_J12_zrm"
      }
    },
    {
      "cell_type": "code",
      "source": [
        "print(NP1[0])\n",
        "print(NP1[2])"
      ],
      "metadata": {
        "colab": {
          "base_uri": "https://localhost:8080/"
        },
        "id": "Qhf-MiA7_udG",
        "outputId": "29126f15-a420-4488-ca85-46dea8dccdf8"
      },
      "execution_count": 13,
      "outputs": [
        {
          "output_type": "stream",
          "name": "stdout",
          "text": [
            "1\n",
            "3\n"
          ]
        }
      ]
    },
    {
      "cell_type": "code",
      "source": [
        "print(NP1[3:5])"
      ],
      "metadata": {
        "colab": {
          "base_uri": "https://localhost:8080/"
        },
        "id": "-yIEHX6k_vje",
        "outputId": "047371b7-9c1f-456b-c5cc-4330287697f1"
      },
      "execution_count": 16,
      "outputs": [
        {
          "output_type": "stream",
          "name": "stdout",
          "text": [
            "[4 5]\n"
          ]
        }
      ]
    },
    {
      "cell_type": "markdown",
      "source": [
        "Accessing items in a 2D array"
      ],
      "metadata": {
        "id": "TXSEIAPoAbM4"
      }
    },
    {
      "cell_type": "code",
      "source": [
        "NP2"
      ],
      "metadata": {
        "colab": {
          "base_uri": "https://localhost:8080/"
        },
        "id": "sj5IqPt5AIF3",
        "outputId": "f74a172c-1b2f-4efe-edf3-88193669e550"
      },
      "execution_count": 17,
      "outputs": [
        {
          "output_type": "execute_result",
          "data": {
            "text/plain": [
              "array([[1, 2, 3],\n",
              "       [4, 5, 6]])"
            ]
          },
          "metadata": {},
          "execution_count": 17
        }
      ]
    },
    {
      "cell_type": "code",
      "source": [
        "print(NP2[0]) # prints row 1\n",
        "print(NP2[1]) # prints row 2"
      ],
      "metadata": {
        "colab": {
          "base_uri": "https://localhost:8080/"
        },
        "id": "Gb2G8AQCAZ53",
        "outputId": "6c5f46a7-81f5-4456-ddcb-65995d54d8ad"
      },
      "execution_count": 21,
      "outputs": [
        {
          "output_type": "stream",
          "name": "stdout",
          "text": [
            "[1 2 3]\n",
            "[4 5 6]\n"
          ]
        }
      ]
    },
    {
      "cell_type": "code",
      "source": [
        "NP2[0,2] # first row , third element"
      ],
      "metadata": {
        "colab": {
          "base_uri": "https://localhost:8080/"
        },
        "id": "9JlJnqN6AfpB",
        "outputId": "80b6289c-fb22-4182-e7f8-bfdd5e4987ba"
      },
      "execution_count": 22,
      "outputs": [
        {
          "output_type": "execute_result",
          "data": {
            "text/plain": [
              "3"
            ]
          },
          "metadata": {},
          "execution_count": 22
        }
      ]
    },
    {
      "cell_type": "markdown",
      "source": [
        "Returns the first digit of all the coloumns"
      ],
      "metadata": {
        "id": "hQQ1OtzpBTCa"
      }
    },
    {
      "cell_type": "code",
      "source": [
        "NP2[:,0] # colon  \":\"  means  \"all\""
      ],
      "metadata": {
        "colab": {
          "base_uri": "https://localhost:8080/"
        },
        "id": "_bPe-6mvAwFM",
        "outputId": "bf621aa2-1f4d-4954-d24e-b5b521e2fb4f"
      },
      "execution_count": 25,
      "outputs": [
        {
          "output_type": "execute_result",
          "data": {
            "text/plain": [
              "array([1, 4])"
            ]
          },
          "metadata": {},
          "execution_count": 25
        }
      ]
    },
    {
      "cell_type": "code",
      "source": [
        "NP2[0,:] # similar to NP2[0]"
      ],
      "metadata": {
        "colab": {
          "base_uri": "https://localhost:8080/"
        },
        "id": "_CbhQbJaA-nc",
        "outputId": "d17695ad-d3c4-49b1-a436-490d3e6594e0"
      },
      "execution_count": 28,
      "outputs": [
        {
          "output_type": "execute_result",
          "data": {
            "text/plain": [
              "array([1, 2, 3])"
            ]
          },
          "metadata": {},
          "execution_count": 28
        }
      ]
    },
    {
      "cell_type": "code",
      "source": [
        "NP2[1,1] # second row , second column"
      ],
      "metadata": {
        "colab": {
          "base_uri": "https://localhost:8080/"
        },
        "id": "uoH7-5G3Bol8",
        "outputId": "2eda0ad4-acf4-4abc-f445-5ee73d337cab"
      },
      "execution_count": 30,
      "outputs": [
        {
          "output_type": "execute_result",
          "data": {
            "text/plain": [
              "5"
            ]
          },
          "metadata": {},
          "execution_count": 30
        }
      ]
    },
    {
      "cell_type": "markdown",
      "source": [
        "NP2[row,column]"
      ],
      "metadata": {
        "id": "zrzZqA7YC9KT"
      }
    },
    {
      "cell_type": "code",
      "source": [
        "NP2[:,:]"
      ],
      "metadata": {
        "colab": {
          "base_uri": "https://localhost:8080/"
        },
        "id": "PwUNqTcmCVQD",
        "outputId": "d06418f2-b134-4a66-b89d-d490f9d26ad5"
      },
      "execution_count": 31,
      "outputs": [
        {
          "output_type": "execute_result",
          "data": {
            "text/plain": [
              "array([[1, 2, 3],\n",
              "       [4, 5, 6]])"
            ]
          },
          "metadata": {},
          "execution_count": 31
        }
      ]
    },
    {
      "cell_type": "code",
      "source": [
        "NP2[0:2,1:3] # both rows , skip first column"
      ],
      "metadata": {
        "colab": {
          "base_uri": "https://localhost:8080/"
        },
        "id": "xnPIhi3EC47c",
        "outputId": "cd0eb5b7-5e05-4a7b-f534-48dae329d31b"
      },
      "execution_count": 34,
      "outputs": [
        {
          "output_type": "execute_result",
          "data": {
            "text/plain": [
              "array([[2, 3],\n",
              "       [5, 6]])"
            ]
          },
          "metadata": {},
          "execution_count": 34
        }
      ]
    },
    {
      "cell_type": "code",
      "source": [
        "NP3 = np.array([[1,2],[3,4]])\n",
        "NP4 = np.array([[5,6],[7,8]])\n",
        "print(NP3)\n",
        "print() # spacing\n",
        "print(NP4)"
      ],
      "metadata": {
        "colab": {
          "base_uri": "https://localhost:8080/"
        },
        "id": "izRphWhwDXAe",
        "outputId": "6f20677c-f029-4ac1-b5b1-c4d3fe1a84ca"
      },
      "execution_count": 38,
      "outputs": [
        {
          "output_type": "stream",
          "name": "stdout",
          "text": [
            "[[1 2]\n",
            " [3 4]]\n",
            "\n",
            "[[5 6]\n",
            " [7 8]]\n"
          ]
        }
      ]
    },
    {
      "cell_type": "code",
      "source": [
        "NP3+NP4 # add up each elements in coresponding positions"
      ],
      "metadata": {
        "colab": {
          "base_uri": "https://localhost:8080/"
        },
        "id": "2oaOOt1AERZz",
        "outputId": "eef21b38-185a-4eef-db8c-25e19581f20d"
      },
      "execution_count": 39,
      "outputs": [
        {
          "output_type": "execute_result",
          "data": {
            "text/plain": [
              "array([[ 6,  8],\n",
              "       [10, 12]])"
            ]
          },
          "metadata": {},
          "execution_count": 39
        }
      ]
    },
    {
      "cell_type": "code",
      "source": [
        "NP3-NP4 # substracts each elements in corresponding positions"
      ],
      "metadata": {
        "colab": {
          "base_uri": "https://localhost:8080/"
        },
        "id": "ASFIaFkLEizb",
        "outputId": "df9cce9a-4e45-4b51-9b86-f2cc2a5793b2"
      },
      "execution_count": 40,
      "outputs": [
        {
          "output_type": "execute_result",
          "data": {
            "text/plain": [
              "array([[-4, -4],\n",
              "       [-4, -4]])"
            ]
          },
          "metadata": {},
          "execution_count": 40
        }
      ]
    },
    {
      "cell_type": "code",
      "source": [
        "NP3/NP4 # divides each elements in corresponding positions"
      ],
      "metadata": {
        "colab": {
          "base_uri": "https://localhost:8080/"
        },
        "id": "B79z-DpSEt_T",
        "outputId": "fc0a1bb0-2675-4606-95c6-b4129002ead1"
      },
      "execution_count": 41,
      "outputs": [
        {
          "output_type": "execute_result",
          "data": {
            "text/plain": [
              "array([[0.2       , 0.33333333],\n",
              "       [0.42857143, 0.5       ]])"
            ]
          },
          "metadata": {},
          "execution_count": 41
        }
      ]
    },
    {
      "cell_type": "code",
      "source": [
        "NP3*NP4 # multiplies each elements in corresponding positions"
      ],
      "metadata": {
        "colab": {
          "base_uri": "https://localhost:8080/"
        },
        "id": "TNDBUHpcE17_",
        "outputId": "541fb470-da71-45d1-b48b-e3b2959ed4fb"
      },
      "execution_count": 42,
      "outputs": [
        {
          "output_type": "execute_result",
          "data": {
            "text/plain": [
              "array([[ 5, 12],\n",
              "       [21, 32]])"
            ]
          },
          "metadata": {},
          "execution_count": 42
        }
      ]
    },
    {
      "cell_type": "markdown",
      "source": [
        "If you want to do matrix multiplication"
      ],
      "metadata": {
        "id": "dungjTZCFMgc"
      }
    },
    {
      "cell_type": "code",
      "source": [
        "NP3@NP4"
      ],
      "metadata": {
        "colab": {
          "base_uri": "https://localhost:8080/"
        },
        "id": "GA-Mch_JFEdi",
        "outputId": "e6e7c9e2-eaa5-4d83-9aaf-6efea7cbb95d"
      },
      "execution_count": 43,
      "outputs": [
        {
          "output_type": "execute_result",
          "data": {
            "text/plain": [
              "array([[19, 22],\n",
              "       [43, 50]])"
            ]
          },
          "metadata": {},
          "execution_count": 43
        }
      ]
    },
    {
      "cell_type": "code",
      "source": [],
      "metadata": {
        "id": "seMce6F4FHDK"
      },
      "execution_count": null,
      "outputs": []
    }
  ]
}